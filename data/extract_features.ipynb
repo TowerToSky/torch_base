{
 "cells": [
  {
   "cell_type": "markdown",
   "metadata": {},
   "source": [
    "# 说明\n",
    "\n",
    "创建于2024-3-11日，旨在用于提取脑电的微分熵的特征，其形状为31\\*5的向量\n",
    "\n",
    "区别于/home/yihaoyuan/WorkSpace/SpatialAbilityTest/ExtractFeatures.ipynb中形状为31\\*150的特征"
   ]
  },
  {
   "cell_type": "code",
   "execution_count": 1,
   "metadata": {},
   "outputs": [],
   "source": [
    "import torch\n",
    "import numpy as np\n",
    "import sys\n",
    "import spatial_utils.data_process as sudp\n",
    "import spatial_utils.data_read as sudr\n",
    "import spatial_utils.feature_extract as sufe\n",
    "# 好像不清楚滑窗截取的数据存在哪儿了，重新整一下\n",
    "import tqdm\n",
    "from datetime import datetime\n",
    "import os\n",
    "import pandas as pd\n",
    "import time"
   ]
  },
  {
   "cell_type": "code",
   "execution_count": 2,
   "metadata": {},
   "outputs": [
    {
     "name": "stdout",
     "output_type": "stream",
     "text": [
      "Finding 'sfreq' from header file: /data/SpaticalTest/SpaticalAbilityTest/old/subject01/eeg/000001.vhdr\n",
      "Used Annotations descriptions: ['New Segment/', 'Stimulus/S  1', 'Stimulus/S  2', 'Stimulus/S  3', 'Stimulus/S  4', 'Stimulus/S  5', 'Stimulus/S  6']\n",
      "54\n",
      "(3859, 31)\n",
      "(54, 3)\n",
      "[1 4 4 1 4 4 4 1 1 1 3 1 3 4 2 1 2 3 4 2 1 1 4 4 2 1 4 1 4 4 4 3 2 2 1 1 4\n",
      " 3 4 4 4 2 3 3 3 2 3 4 3 3 1 3 4 3]\n"
     ]
    }
   ],
   "source": [
    "subject_no = 1\n",
    "eeg_trial_list = sudr.get_eeg_trials(subject_no, use_ICA=False) # 先不用ICA，有点慢，后面再说\n",
    "label_list = sudr.get_labels(subject_no)\n",
    "print(len(eeg_trial_list))\n",
    "print(eeg_trial_list[0].shape)\n",
    "print(label_list.shape)\n",
    "print(label_list[:,-1])"
   ]
  },
  {
   "cell_type": "code",
   "execution_count": null,
   "metadata": {},
   "outputs": [],
   "source": [
    "new_trails, new_labels = sudp.re_data_slide(trial=eeg_trial_list[0], label = label_list[0], win_len = 256, overlap = 0, is_filter = False, norm_method = None)\n",
    "print(new_trails.shape, new_labels.shape)"
   ]
  },
  {
   "cell_type": "code",
   "execution_count": 3,
   "metadata": {},
   "outputs": [
    {
     "name": "stderr",
     "output_type": "stream",
     "text": [
      "Processing participant 1:   0%|          | 0/2 [00:00<?, ?it/s]"
     ]
    },
    {
     "name": "stdout",
     "output_type": "stream",
     "text": [
      "Finding 'sfreq' from header file: /data/SpaticalTest/SpaticalAbilityTest/old/subject01/eeg/000001.vhdr\n",
      "Used Annotations descriptions: ['New Segment/', 'Stimulus/S  1', 'Stimulus/S  2', 'Stimulus/S  3', 'Stimulus/S  4', 'Stimulus/S  5', 'Stimulus/S  6']\n"
     ]
    },
    {
     "name": "stderr",
     "output_type": "stream",
     "text": [
      "Processing participant 2:  50%|█████     | 1/2 [00:06<00:06,  6.10s/it]"
     ]
    },
    {
     "name": "stdout",
     "output_type": "stream",
     "text": [
      "Finding 'sfreq' from header file: /data/SpaticalTest/SpaticalAbilityTest/old/subject02/eeg/000002.vhdr\n",
      "Used Annotations descriptions: ['New Segment/', 'Stimulus/S  1', 'Stimulus/S  2', 'Stimulus/S  3', 'Stimulus/S  4', 'Stimulus/S  5', 'Stimulus/S  6']\n"
     ]
    },
    {
     "name": "stderr",
     "output_type": "stream",
     "text": [
      "                                                                       "
     ]
    },
    {
     "name": "stdout",
     "output_type": "stream",
     "text": [
      "(1696, 256, 31) (1696,)\n"
     ]
    },
    {
     "name": "stderr",
     "output_type": "stream",
     "text": [
      "\r"
     ]
    }
   ],
   "source": [
    "eeg_trials = []\n",
    "labels = []\n",
    "# subject_lists = [i for i in range(1, 36) if i != 11 and i != 9 and i!= 19 and i!=20 and i!=33]\n",
    "subject_lists = [1,2]\n",
    "loop = tqdm.tqdm(subject_lists, total=len(subject_lists), leave=False)\n",
    "for participant_no in loop:\n",
    "    loop.set_description('Processing participant %d' % participant_no)\n",
    "    eeg_trial_list = sudr.get_eeg_trials(participant_no)\n",
    "    label_list = sudr.get_labels(participant_no)\n",
    "    label_list = label_list[:, -1] - 1\n",
    "    for ex_no in range(len(eeg_trial_list)):\n",
    "        new_trails,new_labels = sudp.re_data_slide(trial=eeg_trial_list[ex_no], label = label_list[ex_no], win_len = 256, overlap = 0, is_filter = False, norm_method = None)   # 因为没有overlap，所以用1s大小更为通用一些\n",
    "        eeg_trials.append(new_trails)\n",
    "        labels.append(new_labels)\n",
    "eeg_trials = np.concatenate(eeg_trials, axis=0)\n",
    "labels = np.concatenate(labels, axis=0)\n",
    "print(eeg_trials.shape, labels.shape)"
   ]
  },
  {
   "cell_type": "code",
   "execution_count": 5,
   "metadata": {},
   "outputs": [
    {
     "name": "stdout",
     "output_type": "stream",
     "text": [
      "(1696, 5, 31)\n"
     ]
    },
    {
     "data": {
      "text/plain": [
       "(1696, 31, 5)"
      ]
     },
     "execution_count": 5,
     "metadata": {},
     "output_type": "execute_result"
    }
   ],
   "source": [
    "# 计算DE特征\n",
    "features = []\n",
    "for trial in eeg_trials:\n",
    "    feature = sufe.compute_DE(trial)\n",
    "    features.append(feature)\n",
    "features = np.array(features)\n",
    "print(features.shape)\n",
    "features.swapaxes(1,2).shape"
   ]
  },
  {
   "cell_type": "code",
   "execution_count": 17,
   "metadata": {},
   "outputs": [
    {
     "data": {
      "text/plain": [
       "(1696, 256, 31)"
      ]
     },
     "execution_count": 17,
     "metadata": {},
     "output_type": "execute_result"
    }
   ],
   "source": [
    "eeg_trials.shape"
   ]
  },
  {
   "cell_type": "code",
   "execution_count": 5,
   "metadata": {},
   "outputs": [
    {
     "name": "stdout",
     "output_type": "stream",
     "text": [
      "(1620,)\n"
     ]
    }
   ],
   "source": [
    "# 保存一下原始的全局label\n",
    "subject_lists = [i for i in range(1, 36) if i != 11 and i != 9 and i!= 19 and i!=20 and i!=33]\n",
    "labels = []\n",
    "for participant_no in subject_lists:\n",
    "    label_list = sudr.get_labels(participant_no)\n",
    "    label_list = label_list[:, -1] - 1\n",
    "    labels.append(label_list)\n",
    "labels = np.concatenate(labels)\n",
    "print(labels.shape)\n",
    "np.save(\"/data/SpaticalTest/SlideData/total_33_labels.npy\",labels)"
   ]
  },
  {
   "cell_type": "markdown",
   "metadata": {},
   "source": [
    "## 保存一下脑电的每道题目的index\n",
    "\n",
    "为了眼动和脑电数据量相匹配\n"
   ]
  },
  {
   "cell_type": "code",
   "execution_count": 2,
   "metadata": {},
   "outputs": [],
   "source": [
    "import torch\n",
    "import numpy as np\n",
    "import sys\n",
    "import spatial_utils.data_process as sudp\n",
    "import spatial_utils.data_read as sudr\n",
    "import spatial_utils.feature_extract as sufe\n",
    "\n",
    "# 好像不清楚滑窗截取的数据存在哪儿了，重新整一下\n",
    "import tqdm\n",
    "from datetime import datetime\n",
    "import os\n",
    "import pandas as pd\n",
    "import time\n",
    "import tracemalloc\n",
    "eeg_trials = []\n",
    "labels = []\n",
    "de_features = []\n",
    "subject_indexs = [0]\n",
    "eeg_ex_index = []\n",
    "subject_lists = [\n",
    "    i for i in range(1, 36) if i != 11 and i != 9 and i != 19 and i != 20 and i != 33\n",
    "]"
   ]
  },
  {
   "cell_type": "code",
   "execution_count": 5,
   "metadata": {},
   "outputs": [
    {
     "name": "stdout",
     "output_type": "stream",
     "text": [
      "1\n",
      "Finding 'sfreq' from header file: /data/SpaticalTest/SpaticalAbilityTest/old/subject01/eeg/000001.vhdr\n",
      "Used Annotations descriptions: ['New Segment/', 'Stimulus/S  1', 'Stimulus/S  2', 'Stimulus/S  3', 'Stimulus/S  4', 'Stimulus/S  5', 'Stimulus/S  6']\n",
      "2\n",
      "Finding 'sfreq' from header file: /data/SpaticalTest/SpaticalAbilityTest/old/subject02/eeg/000002.vhdr\n",
      "Used Annotations descriptions: ['New Segment/', 'Stimulus/S  1', 'Stimulus/S  2', 'Stimulus/S  3', 'Stimulus/S  4', 'Stimulus/S  5', 'Stimulus/S  6']\n",
      "3\n",
      "Finding 'sfreq' from header file: /data/SpaticalTest/SpaticalAbilityTest/old/subject03/eeg/000003.vhdr\n",
      "Used Annotations descriptions: ['New Segment/', 'Stimulus/S  1', 'Stimulus/S  2', 'Stimulus/S  3', 'Stimulus/S  4', 'Stimulus/S  5', 'Stimulus/S  6']\n",
      "4\n",
      "Finding 'sfreq' from header file: /data/SpaticalTest/SpaticalAbilityTest/old/subject04/eeg/000004.vhdr\n",
      "Used Annotations descriptions: ['New Segment/', 'Stimulus/S  1', 'Stimulus/S  2', 'Stimulus/S  3', 'Stimulus/S  4', 'Stimulus/S  5', 'Stimulus/S  6']\n",
      "5\n",
      "Finding 'sfreq' from header file: /data/SpaticalTest/SpaticalAbilityTest/old/subject05/eeg/000005.vhdr\n",
      "Used Annotations descriptions: ['New Segment/', 'Stimulus/S  1', 'Stimulus/S  2', 'Stimulus/S  3', 'Stimulus/S  4', 'Stimulus/S  5', 'Stimulus/S  6']\n",
      "6\n",
      "Finding 'sfreq' from header file: /data/SpaticalTest/SpaticalAbilityTest/old/subject06/eeg/000006.vhdr\n",
      "Used Annotations descriptions: ['New Segment/', 'Stimulus/S  1', 'Stimulus/S  2', 'Stimulus/S  3', 'Stimulus/S  4', 'Stimulus/S  5', 'Stimulus/S  6']\n",
      "7\n",
      "Finding 'sfreq' from header file: /data/SpaticalTest/SpaticalAbilityTest/old/subject07/eeg/000007.vhdr\n",
      "Used Annotations descriptions: ['New Segment/', 'Stimulus/S  1', 'Stimulus/S  2', 'Stimulus/S  3', 'Stimulus/S  4', 'Stimulus/S  5', 'Stimulus/S  6']\n",
      "8\n",
      "Finding 'sfreq' from header file: /data/SpaticalTest/SpaticalAbilityTest/old/subject08/eeg/000008.vhdr\n",
      "Used Annotations descriptions: ['New Segment/', 'Stimulus/S  1', 'Stimulus/S  2', 'Stimulus/S  3', 'Stimulus/S  4', 'Stimulus/S  5', 'Stimulus/S  6']\n",
      "10\n",
      "Finding 'sfreq' from header file: /data/SpaticalTest/SpaticalAbilityTest/old/subject10/eeg/000010.vhdr\n",
      "Used Annotations descriptions: ['New Segment/', 'Stimulus/S  1', 'Stimulus/S  2', 'Stimulus/S  3', 'Stimulus/S  4', 'Stimulus/S  5', 'Stimulus/S  6']\n",
      "12\n",
      "Finding 'sfreq' from header file: /data/SpaticalTest/SpaticalAbilityTest/old/subject12/eeg/000012.vhdr\n",
      "Used Annotations descriptions: ['New Segment/', 'Stimulus/S  1', 'Stimulus/S  2', 'Stimulus/S  3', 'Stimulus/S  4', 'Stimulus/S  5', 'Stimulus/S  6']\n",
      "13\n",
      "Finding 'sfreq' from header file: /data/SpaticalTest/SpaticalAbilityTest/old/subject13/eeg/000013.vhdr\n",
      "Used Annotations descriptions: ['New Segment/', 'Stimulus/S  1', 'Stimulus/S  2', 'Stimulus/S  3', 'Stimulus/S  4', 'Stimulus/S  5', 'Stimulus/S  6']\n",
      "14\n",
      "Finding 'sfreq' from header file: /data/SpaticalTest/SpaticalAbilityTest/old/subject14/eeg/000014.vhdr\n",
      "Used Annotations descriptions: ['New Segment/', 'Stimulus/S  1', 'Stimulus/S  2', 'Stimulus/S  3', 'Stimulus/S  4', 'Stimulus/S  5', 'Stimulus/S  6']\n",
      "15\n",
      "Finding 'sfreq' from header file: /data/SpaticalTest/SpaticalAbilityTest/old/subject15/eeg/000015.vhdr\n",
      "Used Annotations descriptions: ['New Segment/', 'Stimulus/S  1', 'Stimulus/S  2', 'Stimulus/S  3', 'Stimulus/S  4', 'Stimulus/S  5', 'Stimulus/S  6']\n",
      "16\n",
      "Finding 'sfreq' from header file: /data/SpaticalTest/SpaticalAbilityTest/old/subject16/eeg/000016.vhdr\n",
      "Used Annotations descriptions: ['New Segment/', 'Stimulus/S  1', 'Stimulus/S  2', 'Stimulus/S  3', 'Stimulus/S  4', 'Stimulus/S  5', 'Stimulus/S  6']\n",
      "17\n",
      "Finding 'sfreq' from header file: /data/SpaticalTest/SpaticalAbilityTest/old/subject17/eeg/000017.vhdr\n",
      "Used Annotations descriptions: ['New Segment/', 'Stimulus/S  1', 'Stimulus/S  2', 'Stimulus/S  3', 'Stimulus/S  4', 'Stimulus/S  5', 'Stimulus/S  6']\n",
      "18\n",
      "Finding 'sfreq' from header file: /data/SpaticalTest/SpaticalAbilityTest/old/subject18/eeg/000018.vhdr\n",
      "Used Annotations descriptions: ['New Segment/', 'Stimulus/S  1', 'Stimulus/S  2', 'Stimulus/S  3', 'Stimulus/S  4', 'Stimulus/S  5', 'Stimulus/S  6']\n",
      "21\n",
      "Finding 'sfreq' from header file: /data/SpaticalTest/SpaticalAbilityTest/202307/021/eeg/021.vhdr\n",
      "Used Annotations descriptions: ['New Segment/', 'Stimulus/S  1', 'Stimulus/S  2', 'Stimulus/S  3', 'Stimulus/S  4', 'Stimulus/S  5', 'Stimulus/S  6']\n",
      "22\n",
      "Finding 'sfreq' from header file: /data/SpaticalTest/SpaticalAbilityTest/202307/022/eeg/022.vhdr\n",
      "Used Annotations descriptions: ['New Segment/', 'Stimulus/S  1', 'Stimulus/S  2', 'Stimulus/S  3', 'Stimulus/S  4', 'Stimulus/S  5', 'Stimulus/S  6']\n",
      "23\n",
      "Finding 'sfreq' from header file: /data/SpaticalTest/SpaticalAbilityTest/202307/023/eeg/023.vhdr\n",
      "Used Annotations descriptions: ['New Segment/', 'Stimulus/S  1', 'Stimulus/S  2', 'Stimulus/S  3', 'Stimulus/S  4', 'Stimulus/S  5', 'Stimulus/S  6']\n",
      "24\n",
      "Finding 'sfreq' from header file: /data/SpaticalTest/SpaticalAbilityTest/202307/024/eeg/024.vhdr\n",
      "Used Annotations descriptions: ['New Segment/', 'Stimulus/S  1', 'Stimulus/S  2', 'Stimulus/S  3', 'Stimulus/S  4', 'Stimulus/S  5', 'Stimulus/S  6']\n",
      "25\n"
     ]
    },
    {
     "name": "stderr",
     "output_type": "stream",
     "text": [
      "/home/yihaoyuan/miniconda3/envs/torch/lib/python3.8/site-packages/sklearn/decomposition/_fastica.py:123: ConvergenceWarning: FastICA did not converge. Consider increasing tolerance or the maximum number of iterations.\n",
      "  warnings.warn(\n"
     ]
    },
    {
     "name": "stdout",
     "output_type": "stream",
     "text": [
      "Finding 'sfreq' from header file: /data/SpaticalTest/SpaticalAbilityTest/202307/025/eeg/025.vhdr\n",
      "Used Annotations descriptions: ['New Segment/', 'Stimulus/S  1', 'Stimulus/S  2', 'Stimulus/S  3', 'Stimulus/S  4', 'Stimulus/S  5', 'Stimulus/S  6']\n",
      "26\n",
      "Finding 'sfreq' from header file: /data/SpaticalTest/SpaticalAbilityTest/202307/026/eeg/026.vhdr\n",
      "Used Annotations descriptions: ['New Segment/', 'Stimulus/S  1', 'Stimulus/S  2', 'Stimulus/S  3', 'Stimulus/S  4', 'Stimulus/S  5', 'Stimulus/S  6']\n",
      "27\n",
      "Finding 'sfreq' from header file: /data/SpaticalTest/SpaticalAbilityTest/202307/027/eeg/027.vhdr\n",
      "Used Annotations descriptions: ['New Segment/', 'Stimulus/S  1', 'Stimulus/S  2', 'Stimulus/S  3', 'Stimulus/S  4', 'Stimulus/S  5', 'Stimulus/S  6']\n",
      "28\n",
      "Finding 'sfreq' from header file: /data/SpaticalTest/SpaticalAbilityTest/202307/028/eeg/028.vhdr\n",
      "Used Annotations descriptions: ['New Segment/', 'Stimulus/S  1', 'Stimulus/S  2', 'Stimulus/S  3', 'Stimulus/S  4', 'Stimulus/S  5', 'Stimulus/S  6']\n",
      "29\n",
      "Finding 'sfreq' from header file: /data/SpaticalTest/SpaticalAbilityTest/202307/029/eeg/029.vhdr\n",
      "Used Annotations descriptions: ['New Segment/', 'Stimulus/S  1', 'Stimulus/S  2', 'Stimulus/S  3', 'Stimulus/S  4', 'Stimulus/S  5', 'Stimulus/S  6']\n",
      "30\n",
      "Finding 'sfreq' from header file: /data/SpaticalTest/SpaticalAbilityTest/202307/030/eeg/030.vhdr\n",
      "Used Annotations descriptions: ['New Segment/', 'Stimulus/S  1', 'Stimulus/S  2', 'Stimulus/S  3', 'Stimulus/S  4', 'Stimulus/S  5', 'Stimulus/S  6']\n",
      "31\n",
      "Finding 'sfreq' from header file: /data/SpaticalTest/SpaticalAbilityTest/202307/031/eeg/031.vhdr\n",
      "Used Annotations descriptions: ['New Segment/', 'Stimulus/S  1', 'Stimulus/S  2', 'Stimulus/S  3', 'Stimulus/S  4', 'Stimulus/S  5', 'Stimulus/S  6']\n",
      "32\n",
      "Finding 'sfreq' from header file: /data/SpaticalTest/SpaticalAbilityTest/202307/032/eeg/032.vhdr\n",
      "Used Annotations descriptions: ['New Segment/', 'Stimulus/S  1', 'Stimulus/S  2', 'Stimulus/S  3', 'Stimulus/S  4', 'Stimulus/S  5', 'Stimulus/S  6']\n",
      "34\n",
      "Finding 'sfreq' from header file: /data/SpaticalTest/SpaticalAbilityTest/202307/034/eeg/034.vhdr\n",
      "Used Annotations descriptions: ['New Segment/', 'Stimulus/S  1', 'Stimulus/S  2', 'Stimulus/S  3', 'Stimulus/S  4', 'Stimulus/S  5', 'Stimulus/S  6']\n",
      "35\n",
      "Finding 'sfreq' from header file: /data/SpaticalTest/SpaticalAbilityTest/202307/035/eeg/035.vhdr\n",
      "Used Annotations descriptions: ['New Segment/', 'Stimulus/S  1', 'Stimulus/S  2', 'Stimulus/S  3', 'Stimulus/S  4', 'Stimulus/S  5', 'Stimulus/S  6']\n"
     ]
    }
   ],
   "source": [
    "for participant_no in subject_lists:\n",
    "    print(participant_no)\n",
    "    eeg_trial_list = sudr.get_eeg_trials(participant_no, use_ICA=True)\n",
    "    label_list = sudr.get_labels(participant_no)\n",
    "    label_list = label_list[:, -1] - 1\n",
    "    per_trial_index = [0]\n",
    "    eeg_trials = []\n",
    "    for ex_no in range(len(eeg_trial_list)):\n",
    "        new_trails, new_labels = sudp.re_data_slide(\n",
    "            trial=eeg_trial_list[ex_no],\n",
    "            label=label_list[ex_no],\n",
    "            win_len=256,\n",
    "            overlap=0,\n",
    "            is_filter=False,\n",
    "            norm_method=None,\n",
    "        )  # 因为没有overlap，所以用1s大小更为通用一些\n",
    "        eeg_trials.extend(new_trails)\n",
    "        per_trial_index.append(len(eeg_trials))\n",
    "    eeg_ex_index.append(per_trial_index)"
   ]
  },
  {
   "cell_type": "code",
   "execution_count": 9,
   "metadata": {},
   "outputs": [],
   "source": [
    "test = np.array(eeg_ex_index)\n",
    "np.save(\"/data/SpaticalTest/Spatial/total_33_eeg_ex_index.npy\", test)"
   ]
  },
  {
   "cell_type": "code",
   "execution_count": null,
   "metadata": {},
   "outputs": [],
   "source": []
  },
  {
   "cell_type": "markdown",
   "metadata": {},
   "source": [
    "# 这里保存一下labels"
   ]
  },
  {
   "cell_type": "code",
   "execution_count": 7,
   "metadata": {},
   "outputs": [
    {
     "name": "stdout",
     "output_type": "stream",
     "text": [
      "2024-04-10 14:09:05.813184\n",
      "29\n",
      "(1566,)\n"
     ]
    }
   ],
   "source": [
    "import torch\n",
    "import numpy as np\n",
    "import sys\n",
    "import spatial_utils.data_process as sudp\n",
    "import spatial_utils.data_read as sudr\n",
    "import spatial_utils.feature_extract as sufe\n",
    "\n",
    "# 好像不清楚滑窗截取的数据存在哪儿了，重新整一下\n",
    "import tqdm\n",
    "from datetime import datetime\n",
    "import os\n",
    "import pandas as pd\n",
    "import time\n",
    "\n",
    "print(datetime.now())\n",
    "\n",
    "subject_lists = [\n",
    "    i\n",
    "    for i in range(1, 36)\n",
    "    if i != 11 and i != 9 and i != 19 and i != 20 and i != 33 and i != 15\n",
    "]\n",
    "print(len(subject_lists))\n",
    "labels = []\n",
    "for per_no in subject_lists:\n",
    "    label = sudr.get_labels(per_no)\n",
    "    labels.append(label[:,-1])\n",
    "labels = np.concatenate(labels)\n",
    "print(labels.shape)\n",
    "np.save(\"/data/SpaticalTest/Spatial/labels29.npy\", labels)"
   ]
  }
 ],
 "metadata": {
  "kernelspec": {
   "display_name": "torch",
   "language": "python",
   "name": "python3"
  },
  "language_info": {
   "codemirror_mode": {
    "name": "ipython",
    "version": 3
   },
   "file_extension": ".py",
   "mimetype": "text/x-python",
   "name": "python",
   "nbconvert_exporter": "python",
   "pygments_lexer": "ipython3",
   "version": "3.8.18"
  }
 },
 "nbformat": 4,
 "nbformat_minor": 2
}
